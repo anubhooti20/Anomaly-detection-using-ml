{
 "cells": [
  {
   "cell_type": "code",
   "execution_count": 4,
   "id": "d7903963-4707-4740-86c1-44a77c14cb3d",
   "metadata": {},
   "outputs": [],
   "source": [
    "import numpy as np \n",
    "import pandas as pd \n",
    "\n",
    "import matplotlib.pyplot as plt\n",
    "import seaborn as sb\n",
    "\n",
    "import xgboost as xgb\n",
    "from xgboost import XGBClassifier\n",
    "\n",
    "\n",
    "\n",
    "from sklearn.ensemble import IsolationForest\n",
    "from sklearn.neighbors import KNeighborsClassifier\n",
    "from sklearn.model_selection import train_test_split\n",
    "\n",
    "from sklearn.neighbors import LocalOutlierFactor\n",
    "from sklearn.svm import OneClassSVM\n",
    "from sklearn.metrics import accuracy_score,confusion_matrix,classification_report,ConfusionMatrixDisplay"
   ]
  },
  {
   "cell_type": "code",
   "execution_count": 5,
   "id": "44441296-d657-4018-bf6d-e45a7a49c664",
   "metadata": {},
   "outputs": [
    {
     "name": "stdout",
     "output_type": "stream",
     "text": [
      "Requirement already satisfied: xgboost in c:\\users\\lenovossd\\appdata\\local\\programs\\python\\python312\\lib\\site-packages (2.1.0)\n",
      "Requirement already satisfied: numpy in c:\\users\\lenovossd\\appdata\\local\\programs\\python\\python312\\lib\\site-packages (from xgboost) (2.0.0)\n",
      "Requirement already satisfied: scipy in c:\\users\\lenovossd\\appdata\\local\\programs\\python\\python312\\lib\\site-packages (from xgboost) (1.14.0)\n"
     ]
    },
    {
     "name": "stderr",
     "output_type": "stream",
     "text": [
      "\n",
      "[notice] A new release of pip is available: 24.0 -> 24.1.2\n",
      "[notice] To update, run: python.exe -m pip install --upgrade pip\n"
     ]
    }
   ],
   "source": [
    "!pip install xgboost\n"
   ]
  },
  {
   "cell_type": "code",
   "execution_count": 6,
   "id": "ec220252-ac86-4cc3-b761-811c2582efaa",
   "metadata": {},
   "outputs": [
    {
     "data": {
      "text/html": [
       "<div>\n",
       "<style scoped>\n",
       "    .dataframe tbody tr th:only-of-type {\n",
       "        vertical-align: middle;\n",
       "    }\n",
       "\n",
       "    .dataframe tbody tr th {\n",
       "        vertical-align: top;\n",
       "    }\n",
       "\n",
       "    .dataframe thead th {\n",
       "        text-align: right;\n",
       "    }\n",
       "</style>\n",
       "<table border=\"1\" class=\"dataframe\">\n",
       "  <thead>\n",
       "    <tr style=\"text-align: right;\">\n",
       "      <th></th>\n",
       "      <th>timestamp</th>\n",
       "      <th>value</th>\n",
       "      <th>is_anomaly</th>\n",
       "      <th>predicted</th>\n",
       "    </tr>\n",
       "  </thead>\n",
       "  <tbody>\n",
       "    <tr>\n",
       "      <th>0</th>\n",
       "      <td>1425008573</td>\n",
       "      <td>42</td>\n",
       "      <td>False</td>\n",
       "      <td>44.07250</td>\n",
       "    </tr>\n",
       "    <tr>\n",
       "      <th>1</th>\n",
       "      <td>1425008873</td>\n",
       "      <td>41</td>\n",
       "      <td>False</td>\n",
       "      <td>50.70939</td>\n",
       "    </tr>\n",
       "  </tbody>\n",
       "</table>\n",
       "</div>"
      ],
      "text/plain": [
       "    timestamp  value  is_anomaly  predicted\n",
       "0  1425008573     42       False   44.07250\n",
       "1  1425008873     41       False   50.70939"
      ]
     },
     "execution_count": 6,
     "metadata": {},
     "output_type": "execute_result"
    }
   ],
   "source": [
    "df_train = pd.read_csv(r'C:\\Users\\lenovossd\\Downloads\\anomaly-detection\\train.csv')\n",
    "df_train.head(2)"
   ]
  },
  {
   "cell_type": "code",
   "execution_count": 7,
   "id": "3d637331-29cb-41b8-ad5d-ac962b006154",
   "metadata": {},
   "outputs": [
    {
     "name": "stderr",
     "output_type": "stream",
     "text": [
      "C:\\Users\\lenovossd\\AppData\\Local\\Temp\\ipykernel_12932\\3076744821.py:1: FutureWarning: Downcasting behavior in `replace` is deprecated and will be removed in a future version. To retain the old behavior, explicitly call `result.infer_objects(copy=False)`. To opt-in to the future behavior, set `pd.set_option('future.no_silent_downcasting', True)`\n",
      "  df_train['is_anomaly'] = df_train['is_anomaly'].replace(False,0).replace(True,1)\n"
     ]
    },
    {
     "data": {
      "text/plain": [
       "is_anomaly\n",
       "0    15054\n",
       "1      776\n",
       "Name: count, dtype: int64"
      ]
     },
     "execution_count": 7,
     "metadata": {},
     "output_type": "execute_result"
    }
   ],
   "source": [
    "df_train['is_anomaly'] = df_train['is_anomaly'].replace(False,0).replace(True,1)\n",
    "df_train['is_anomaly'].value_counts()"
   ]
  },
  {
   "cell_type": "code",
   "execution_count": 8,
   "id": "b58f50d5-4b8f-49a5-8f96-9d9043d6d743",
   "metadata": {},
   "outputs": [
    {
     "data": {
      "text/plain": [
       "timestamp     0\n",
       "value         0\n",
       "is_anomaly    0\n",
       "predicted     0\n",
       "dtype: int64"
      ]
     },
     "execution_count": 8,
     "metadata": {},
     "output_type": "execute_result"
    }
   ],
   "source": [
    "df_train.isnull().sum()"
   ]
  },
  {
   "cell_type": "code",
   "execution_count": 9,
   "id": "acc70126-7c52-478b-a204-a8eede11fa86",
   "metadata": {},
   "outputs": [
    {
     "data": {
      "text/html": [
       "<div>\n",
       "<style scoped>\n",
       "    .dataframe tbody tr th:only-of-type {\n",
       "        vertical-align: middle;\n",
       "    }\n",
       "\n",
       "    .dataframe tbody tr th {\n",
       "        vertical-align: top;\n",
       "    }\n",
       "\n",
       "    .dataframe thead th {\n",
       "        text-align: right;\n",
       "    }\n",
       "</style>\n",
       "<table border=\"1\" class=\"dataframe\">\n",
       "  <thead>\n",
       "    <tr style=\"text-align: right;\">\n",
       "      <th></th>\n",
       "      <th>timestamp</th>\n",
       "      <th>value</th>\n",
       "      <th>is_anomaly</th>\n",
       "      <th>predicted</th>\n",
       "    </tr>\n",
       "  </thead>\n",
       "  <tbody>\n",
       "    <tr>\n",
       "      <th>count</th>\n",
       "      <td>1.583000e+04</td>\n",
       "      <td>15830.000000</td>\n",
       "      <td>15830.000000</td>\n",
       "      <td>15830.000000</td>\n",
       "    </tr>\n",
       "    <tr>\n",
       "      <th>mean</th>\n",
       "      <td>1.427383e+09</td>\n",
       "      <td>85.572205</td>\n",
       "      <td>0.049021</td>\n",
       "      <td>71.870715</td>\n",
       "    </tr>\n",
       "    <tr>\n",
       "      <th>std</th>\n",
       "      <td>1.370962e+06</td>\n",
       "      <td>321.760918</td>\n",
       "      <td>0.215918</td>\n",
       "      <td>92.450520</td>\n",
       "    </tr>\n",
       "    <tr>\n",
       "      <th>min</th>\n",
       "      <td>1.425009e+09</td>\n",
       "      <td>0.000000</td>\n",
       "      <td>0.000000</td>\n",
       "      <td>-281.389070</td>\n",
       "    </tr>\n",
       "    <tr>\n",
       "      <th>25%</th>\n",
       "      <td>1.426196e+09</td>\n",
       "      <td>29.000000</td>\n",
       "      <td>0.000000</td>\n",
       "      <td>32.919171</td>\n",
       "    </tr>\n",
       "    <tr>\n",
       "      <th>50%</th>\n",
       "      <td>1.427383e+09</td>\n",
       "      <td>47.000000</td>\n",
       "      <td>0.000000</td>\n",
       "      <td>49.771124</td>\n",
       "    </tr>\n",
       "    <tr>\n",
       "      <th>75%</th>\n",
       "      <td>1.428570e+09</td>\n",
       "      <td>76.000000</td>\n",
       "      <td>0.000000</td>\n",
       "      <td>75.948052</td>\n",
       "    </tr>\n",
       "    <tr>\n",
       "      <th>max</th>\n",
       "      <td>1.429757e+09</td>\n",
       "      <td>13479.000000</td>\n",
       "      <td>1.000000</td>\n",
       "      <td>2716.127200</td>\n",
       "    </tr>\n",
       "  </tbody>\n",
       "</table>\n",
       "</div>"
      ],
      "text/plain": [
       "          timestamp         value    is_anomaly     predicted\n",
       "count  1.583000e+04  15830.000000  15830.000000  15830.000000\n",
       "mean   1.427383e+09     85.572205      0.049021     71.870715\n",
       "std    1.370962e+06    321.760918      0.215918     92.450520\n",
       "min    1.425009e+09      0.000000      0.000000   -281.389070\n",
       "25%    1.426196e+09     29.000000      0.000000     32.919171\n",
       "50%    1.427383e+09     47.000000      0.000000     49.771124\n",
       "75%    1.428570e+09     76.000000      0.000000     75.948052\n",
       "max    1.429757e+09  13479.000000      1.000000   2716.127200"
      ]
     },
     "execution_count": 9,
     "metadata": {},
     "output_type": "execute_result"
    }
   ],
   "source": [
    "df_train.describe()"
   ]
  },
  {
   "cell_type": "code",
   "execution_count": 10,
   "id": "cce9e72b-bb3f-4ab0-b189-d84949f153e2",
   "metadata": {},
   "outputs": [
    {
     "data": {
      "image/png": "[encoded data removed]",
      "text/plain": [
       "<Figure size 2500x900 with 2 Axes>"
      ]
     },
     "metadata": {},
     "output_type": "display_data"
    }
   ],
   "source": [
    "plt.figure(figsize=(25, 9))\n",
    "sb.heatmap(df_train.corr(),annot=True,cmap='coolwarm')\n",
    "plt.show()"
   ]
  },
  {
   "cell_type": "code",
   "execution_count": 11,
   "id": "42cc644e-b5c1-4898-90b2-e9ef186f16d8",
   "metadata": {},
   "outputs": [
    {
     "data": {
      "text/plain": [
       "<Axes: xlabel='predicted', ylabel='value'>"
      ]
     },
     "execution_count": 11,
     "metadata": {},
     "output_type": "execute_result"
    },
    {
     "data": {
      "image/png": "[encoded data removed]",
      "text/plain": [
       "<Figure size 640x480 with 1 Axes>"
      ]
     },
     "metadata": {},
     "output_type": "display_data"
    }
   ],
   "source": [
    "sb.scatterplot(x=df_train['predicted'], y=df_train['value'])"
   ]
  },
  {
   "cell_type": "code",
   "execution_count": 12,
   "id": "079c5b50-4a72-4875-a356-c3178ca26dd5",
   "metadata": {},
   "outputs": [
    {
     "name": "stdout",
     "output_type": "stream",
     "text": [
      "Total No of Transactions: 63320\n",
      "No of Anomalous Transactions: 776\n",
      "No of Valid Transactions: 15054\n",
      "Percentage of Anomalous Transactions: 4.902\n",
      "Percentage of Valid Transactions: 95.098\n"
     ]
    }
   ],
   "source": [
    "print(\"Total No of Transactions:\",df_train.size)\n",
    "\n",
    "Fraud_df = df_train[df_train['is_anomaly']==True]\n",
    "print(\"No of Anomalous Transactions:\",len(Fraud_df))\n",
    "\n",
    "Valid_df = df_train[df_train['is_anomaly']==False]\n",
    "print(\"No of Valid Transactions:\",len(Valid_df))\n",
    "\n",
    "outlier_fraction = len(Fraud_df)/float(len(df_train))\n",
    "valid_fraction = len(Valid_df)/float(len(df_train))\n",
    "print(\"Percentage of Anomalous Transactions:\",round((outlier_fraction*100),3))\n",
    "print(\"Percentage of Valid Transactions:\",round((valid_fraction*100),3))"
   ]
  },
  {
   "cell_type": "code",
   "execution_count": 13,
   "id": "e73daf15-993c-43ff-9e29-25ba669a75bf",
   "metadata": {},
   "outputs": [
    {
     "data": {
      "text/html": [
       "<div>\n",
       "<style scoped>\n",
       "    .dataframe tbody tr th:only-of-type {\n",
       "        vertical-align: middle;\n",
       "    }\n",
       "\n",
       "    .dataframe tbody tr th {\n",
       "        vertical-align: top;\n",
       "    }\n",
       "\n",
       "    .dataframe thead th {\n",
       "        text-align: right;\n",
       "    }\n",
       "</style>\n",
       "<table border=\"1\" class=\"dataframe\">\n",
       "  <thead>\n",
       "    <tr style=\"text-align: right;\">\n",
       "      <th></th>\n",
       "      <th>timestamp</th>\n",
       "      <th>value</th>\n",
       "      <th>predicted</th>\n",
       "    </tr>\n",
       "  </thead>\n",
       "  <tbody>\n",
       "    <tr>\n",
       "      <th>0</th>\n",
       "      <td>1425008573</td>\n",
       "      <td>42</td>\n",
       "      <td>44.07250</td>\n",
       "    </tr>\n",
       "    <tr>\n",
       "      <th>1</th>\n",
       "      <td>1425008873</td>\n",
       "      <td>41</td>\n",
       "      <td>50.70939</td>\n",
       "    </tr>\n",
       "  </tbody>\n",
       "</table>\n",
       "</div>"
      ],
      "text/plain": [
       "    timestamp  value  predicted\n",
       "0  1425008573     42   44.07250\n",
       "1  1425008873     41   50.70939"
      ]
     },
     "execution_count": 13,
     "metadata": {},
     "output_type": "execute_result"
    }
   ],
   "source": [
    "X = df_train.drop(columns=['is_anomaly'],inplace=False,axis=1)\n",
    "X.head(2)"
   ]
  },
  {
   "cell_type": "code",
   "execution_count": 14,
   "id": "8a104b67-067c-4b48-a0cf-59655cb7e0d1",
   "metadata": {},
   "outputs": [
    {
     "data": {
      "text/plain": [
       "0    0\n",
       "1    0\n",
       "2    0\n",
       "Name: is_anomaly, dtype: int64"
      ]
     },
     "execution_count": 14,
     "metadata": {},
     "output_type": "execute_result"
    }
   ],
   "source": [
    "y = df_train['is_anomaly']\n",
    "y.head(3)"
   ]
  },
  {
   "cell_type": "code",
   "execution_count": 15,
   "id": "d7f30701-4d25-482f-abd3-1290ea091e63",
   "metadata": {},
   "outputs": [],
   "source": [
    "X.shape\n",
    "X_train = X.copy(deep=True)\n",
    "y_train  = y.copy(deep=True)"
   ]
  },
  {
   "cell_type": "code",
   "execution_count": 16,
   "id": "4945bdce-9ed8-4053-93d4-992b69e6e407",
   "metadata": {},
   "outputs": [],
   "source": [
    "state = np.random.RandomState(42)\n",
    "X_outliers = state.uniform(low=0, high=1, size=(X_train.shape[0], X_train.shape[1]))"
   ]
  },
  {
   "cell_type": "code",
   "execution_count": 17,
   "id": "f31ef941-bdb8-4e83-8420-c851433a4a62",
   "metadata": {},
   "outputs": [],
   "source": [
    "classifiers = {\n",
    "    \"Isolation Forest\":IsolationForest(n_estimators=100,\n",
    "                                       max_samples=len(X_train), \n",
    "                                       contamination=outlier_fraction,\n",
    "                                       random_state=state, \n",
    "                                       verbose=0),\n",
    "    \"Local Outlier Factor\":LocalOutlierFactor(n_neighbors=20,\n",
    "                                              algorithm='auto', \n",
    "                                              leaf_size=30, \n",
    "                                              metric='minkowski',\n",
    "                                              novelty=False,\n",
    "                                              p=2, metric_params=None,\n",
    "                                              contamination=outlier_fraction),\n",
    "    \"Novelty Local Outlier Factor\":LocalOutlierFactor(n_neighbors=20, algorithm='auto', \n",
    "                                              leaf_size=30, metric='minkowski',\n",
    "                                                      novelty=True,p=2, metric_params=None, \n",
    "                                                      contamination=outlier_fraction),\n",
    "    \"Support Vector Machine\":OneClassSVM(kernel='rbf', degree=3, gamma=0.1,nu=0.05, \n",
    "                                         max_iter=-1),\n",
    "    \"XGBClassifier\":XGBClassifier(objective=\"binary:logistic\", random_state=42)\n",
    "}"
   ]
  },
  {
   "cell_type": "code",
   "execution_count": 18,
   "id": "e971a078-4b87-4833-aa31-b2c1526faf37",
   "metadata": {},
   "outputs": [
    {
     "name": "stdout",
     "output_type": "stream",
     "text": [
      "################################################################################################\n",
      "Isolation Forest: 1026\n",
      "Accuracy Score :0.94\n",
      "Classification Report :\n",
      "              precision    recall  f1-score   support\n",
      "\n",
      "           0       0.97      0.97      0.97     15054\n",
      "           1       0.34      0.34      0.34       776\n",
      "\n",
      "    accuracy                           0.94     15830\n",
      "   macro avg       0.65      0.65      0.65     15830\n",
      "weighted avg       0.94      0.94      0.94     15830\n",
      "\n",
      "################################################################################################\n",
      "Local Outlier Factor: 1244\n",
      "Accuracy Score :0.92\n",
      "Classification Report :\n",
      "              precision    recall  f1-score   support\n",
      "\n",
      "           0       0.96      0.96      0.96     15054\n",
      "           1       0.20      0.20      0.20       776\n",
      "\n",
      "    accuracy                           0.92     15830\n",
      "   macro avg       0.58      0.58      0.58     15830\n",
      "weighted avg       0.92      0.92      0.92     15830\n",
      "\n",
      "################################################################################################\n",
      "Novelty Local Outlier Factor: 1139\n",
      "Accuracy Score :0.93\n",
      "Classification Report :\n",
      "              precision    recall  f1-score   support\n",
      "\n",
      "           0       0.96      0.97      0.96     15054\n",
      "           1       0.22      0.18      0.20       776\n",
      "\n",
      "    accuracy                           0.93     15830\n",
      "   macro avg       0.59      0.58      0.58     15830\n",
      "weighted avg       0.92      0.93      0.92     15830\n",
      "\n"
     ]
    },
    {
     "name": "stderr",
     "output_type": "stream",
     "text": [
      "C:\\Users\\lenovossd\\AppData\\Local\\Programs\\Python\\Python312\\Lib\\site-packages\\sklearn\\base.py:493: UserWarning: X does not have valid feature names, but LocalOutlierFactor was fitted with feature names\n",
      "  warnings.warn(\n"
     ]
    },
    {
     "name": "stdout",
     "output_type": "stream",
     "text": [
      "################################################################################################\n",
      "Support Vector Machine: 12204\n",
      "Accuracy Score :0.23\n",
      "Classification Report :\n",
      "              precision    recall  f1-score   support\n",
      "\n",
      "           0       0.95      0.20      0.33     15054\n",
      "           1       0.05      0.80      0.09       776\n",
      "\n",
      "    accuracy                           0.23     15830\n",
      "   macro avg       0.50      0.50      0.21     15830\n",
      "weighted avg       0.91      0.23      0.32     15830\n",
      "\n",
      "################################################################################################\n",
      "XGBClassifier: 776\n",
      "Accuracy Score :0.95\n",
      "Classification Report :\n",
      "              precision    recall  f1-score   support\n",
      "\n",
      "           0       0.95      1.00      0.97     15054\n",
      "           1       0.00      0.00      0.00       776\n",
      "\n",
      "    accuracy                           0.95     15830\n",
      "   macro avg       0.48      0.50      0.49     15830\n",
      "weighted avg       0.90      0.95      0.93     15830\n",
      "\n"
     ]
    },
    {
     "name": "stderr",
     "output_type": "stream",
     "text": [
      "C:\\Users\\lenovossd\\AppData\\Local\\Programs\\Python\\Python312\\Lib\\site-packages\\sklearn\\metrics\\_classification.py:1531: UndefinedMetricWarning: Precision is ill-defined and being set to 0.0 in labels with no predicted samples. Use `zero_division` parameter to control this behavior.\n",
      "  _warn_prf(average, modifier, f\"{metric.capitalize()} is\", len(result))\n",
      "C:\\Users\\lenovossd\\AppData\\Local\\Programs\\Python\\Python312\\Lib\\site-packages\\sklearn\\metrics\\_classification.py:1531: UndefinedMetricWarning: Precision is ill-defined and being set to 0.0 in labels with no predicted samples. Use `zero_division` parameter to control this behavior.\n",
      "  _warn_prf(average, modifier, f\"{metric.capitalize()} is\", len(result))\n",
      "C:\\Users\\lenovossd\\AppData\\Local\\Programs\\Python\\Python312\\Lib\\site-packages\\sklearn\\metrics\\_classification.py:1531: UndefinedMetricWarning: Precision is ill-defined and being set to 0.0 in labels with no predicted samples. Use `zero_division` parameter to control this behavior.\n",
      "  _warn_prf(average, modifier, f\"{metric.capitalize()} is\", len(result))\n"
     ]
    },
    {
     "data": {
      "image/png": "[encoded data removed]",
      "text/plain": [
       "<Figure size 2000x1000 with 5 Axes>"
      ]
     },
     "metadata": {},
     "output_type": "display_data"
    }
   ],
   "source": [
    "f, axes = plt.subplots(1, 5, figsize=(20, 10), sharey='row')\n",
    "for i, (clf_name,clf) in enumerate(classifiers.items()):\n",
    "    #Fit the data and tag outliers\n",
    "    print(\"###\"*32)\n",
    "    if clf_name == \"Local Outlier Factor\":\n",
    "        y_pred = clf.fit_predict(X_train)\n",
    "        scores_prediction = clf.negative_outlier_factor_\n",
    "    elif clf_name == \"Support Vector Machine\":\n",
    "        clf.fit(X_train)\n",
    "        y_pred = clf.predict(X_train)\n",
    "    elif clf_name == \"Novelty Local Outlier Factor\":\n",
    "        clf.fit(X_train)\n",
    "        y_pred = clf.predict(X_train)\n",
    "        scores_prediction = clf.negative_outlier_factor_  \n",
    "    elif clf_name == \"XGBClassifier\":\n",
    "        clf.fit(X_train,y_train)\n",
    "        y_pred = clf.predict(X_train)\n",
    "    else:    \n",
    "        clf.fit(X_train)\n",
    "        scores_prediction = clf.decision_function(X_train)\n",
    "        y_pred = clf.predict(X_train)\n",
    "#     Reshape the prediction values to 0 for Valid transactions , 1 for Fraud transactions\n",
    "    y_pred[y_pred == 1] = 0\n",
    "    y_pred[y_pred == -1] = 1\n",
    "    n_errors = (y_pred != y_train).sum()\n",
    "    # Run Classification Metrics\n",
    "    print(\"{}: {}\".format(clf_name,n_errors))\n",
    "    ac_score = accuracy_score(y_train,y_pred)\n",
    "    \n",
    "    print(f\"Accuracy Score :{round(ac_score,2)}\")\n",
    "    print(\"Classification Report :\")\n",
    "    print(classification_report(y_train,y_pred))\n",
    "    cf_matrix = confusion_matrix(y_train, y_pred)\n",
    "    disp = ConfusionMatrixDisplay(cf_matrix)\n",
    "    disp.plot(ax=axes[i], values_format='.0f',cmap = \"Blues\")\n",
    "    axes[i].set_title(clf_name+\"f1:\"+str(round(ac_score,2)))\n",
    "    disp.im_.colorbar.remove()\n",
    "    disp.ax_.set_xlabel('')"
   ]
  },
  {
   "cell_type": "code",
   "execution_count": 19,
   "id": "b233e8b7-c039-42db-b19f-c430734902bb",
   "metadata": {},
   "outputs": [],
   "source": [
    "X_test = pd.read_csv(r\"C:\\Users\\lenovossd\\Downloads\\anomaly-detection\\test.csv\")\n"
   ]
  },
  {
   "cell_type": "code",
   "execution_count": 20,
   "id": "5e608ba5-d24e-4cfd-8f9d-20e1456bb378",
   "metadata": {},
   "outputs": [],
   "source": [
    "clf  = XGBClassifier(objective=\"binary:logistic\", random_state=42)\n",
    "clf.fit(X_train,y_train)\n",
    "y_test_pred = clf.predict(X_test)"
   ]
  },
  {
   "cell_type": "code",
   "execution_count": 21,
   "id": "eab268ba-b7a4-4585-bd82-04170892f863",
   "metadata": {},
   "outputs": [],
   "source": [
    "data={\"timestamp\":[],\"is_anomaly\":[]}\n",
    "for id,pred in zip(X[\"timestamp\"].unique(),y_test_pred):\n",
    "    data[\"timestamp\"].append(id)\n",
    "    data[\"is_anomaly\"].append(pred)"
   ]
  },
  {
   "cell_type": "code",
   "execution_count": 22,
   "id": "a8bf991c-fc81-4c85-a3b2-72d921919bc1",
   "metadata": {},
   "outputs": [
    {
     "data": {
      "text/html": [
       "<div>\n",
       "<style scoped>\n",
       "    .dataframe tbody tr th:only-of-type {\n",
       "        vertical-align: middle;\n",
       "    }\n",
       "\n",
       "    .dataframe tbody tr th {\n",
       "        vertical-align: top;\n",
       "    }\n",
       "\n",
       "    .dataframe thead th {\n",
       "        text-align: right;\n",
       "    }\n",
       "</style>\n",
       "<table border=\"1\" class=\"dataframe\">\n",
       "  <thead>\n",
       "    <tr style=\"text-align: right;\">\n",
       "      <th></th>\n",
       "      <th>timestamp</th>\n",
       "      <th>is_anomaly</th>\n",
       "    </tr>\n",
       "  </thead>\n",
       "  <tbody>\n",
       "    <tr>\n",
       "      <th>0</th>\n",
       "      <td>1425008573</td>\n",
       "      <td>0</td>\n",
       "    </tr>\n",
       "    <tr>\n",
       "      <th>1</th>\n",
       "      <td>1425008873</td>\n",
       "      <td>0</td>\n",
       "    </tr>\n",
       "  </tbody>\n",
       "</table>\n",
       "</div>"
      ],
      "text/plain": [
       "    timestamp  is_anomaly\n",
       "0  1425008573           0\n",
       "1  1425008873           0"
      ]
     },
     "execution_count": 22,
     "metadata": {},
     "output_type": "execute_result"
    }
   ],
   "source": [
    "output=pd.DataFrame(data,columns=[\"timestamp\",\"is_anomaly\"])\n",
    "output.head(2)"
   ]
  },
  {
   "cell_type": "code",
   "execution_count": 23,
   "id": "1f87144c-838a-416e-a39b-f86fd9138134",
   "metadata": {},
   "outputs": [
    {
     "data": {
      "text/plain": [
       "0    0\n",
       "1    0\n",
       "2    0\n",
       "Name: is_anomaly, dtype: int64"
      ]
     },
     "execution_count": 23,
     "metadata": {},
     "output_type": "execute_result"
    }
   ],
   "source": [
    "y = df_train['is_anomaly']\n",
    "y.head(3)"
   ]
  },
  {
   "cell_type": "code",
   "execution_count": 24,
   "id": "17afc102-c383-4794-a9c6-78e3a9d68c69",
   "metadata": {},
   "outputs": [],
   "source": [
    "X.shape\n",
    "X_train = X.copy(deep=True)\n",
    "y_train  = y.copy(deep=True)"
   ]
  },
  {
   "cell_type": "code",
   "execution_count": 25,
   "id": "af9ba397-d2cd-4f5d-b626-49c24c75ed25",
   "metadata": {},
   "outputs": [],
   "source": [
    "state = np.random.RandomState(42)\n",
    "X_outliers = state.uniform(low=0, high=1, size=(X_train.shape[0], X_train.shape[1]))"
   ]
  },
  {
   "cell_type": "code",
   "execution_count": 26,
   "id": "5ef31e91-e9e2-4cf3-8709-05841aa50f8b",
   "metadata": {},
   "outputs": [],
   "source": [
    "classifiers = {\n",
    "    \"Isolation Forest\":IsolationForest(n_estimators=100,\n",
    "                                       max_samples=len(X_train), \n",
    "                                       contamination=outlier_fraction,\n",
    "                                       random_state=state, \n",
    "                                       verbose=0),\n",
    "    \"Local Outlier Factor\":LocalOutlierFactor(n_neighbors=20,\n",
    "                                              algorithm='auto', \n",
    "                                              leaf_size=30, \n",
    "                                              metric='minkowski',\n",
    "                                              novelty=False,\n",
    "                                              p=2, metric_params=None,\n",
    "                                              contamination=outlier_fraction),\n",
    "    \"Novelty Local Outlier Factor\":LocalOutlierFactor(n_neighbors=20, algorithm='auto', \n",
    "                                              leaf_size=30, metric='minkowski',\n",
    "                                                      novelty=True,p=2, metric_params=None, \n",
    "                                                      contamination=outlier_fraction),\n",
    "    \"Support Vector Machine\":OneClassSVM(kernel='rbf', degree=3, gamma=0.1,nu=0.05, \n",
    "                                         max_iter=-1),\n",
    "    \"XGBClassifier\":XGBClassifier(objective=\"binary:logistic\", random_state=42)\n",
    "}"
   ]
  },
  {
   "cell_type": "code",
   "execution_count": 27,
   "id": "1098ff7d-0c49-4e00-8b7e-b635aef6f360",
   "metadata": {},
   "outputs": [
    {
     "name": "stdout",
     "output_type": "stream",
     "text": [
      "################################################################################################\n",
      "Isolation Forest: 1026\n",
      "Accuracy Score :0.94\n",
      "Classification Report :\n",
      "              precision    recall  f1-score   support\n",
      "\n",
      "           0       0.97      0.97      0.97     15054\n",
      "           1       0.34      0.34      0.34       776\n",
      "\n",
      "    accuracy                           0.94     15830\n",
      "   macro avg       0.65      0.65      0.65     15830\n",
      "weighted avg       0.94      0.94      0.94     15830\n",
      "\n",
      "################################################################################################\n",
      "Local Outlier Factor: 1244\n",
      "Accuracy Score :0.92\n",
      "Classification Report :\n",
      "              precision    recall  f1-score   support\n",
      "\n",
      "           0       0.96      0.96      0.96     15054\n",
      "           1       0.20      0.20      0.20       776\n",
      "\n",
      "    accuracy                           0.92     15830\n",
      "   macro avg       0.58      0.58      0.58     15830\n",
      "weighted avg       0.92      0.92      0.92     15830\n",
      "\n",
      "################################################################################################\n",
      "Novelty Local Outlier Factor: 1139\n",
      "Accuracy Score :0.93\n",
      "Classification Report :\n",
      "              precision    recall  f1-score   support\n",
      "\n",
      "           0       0.96      0.97      0.96     15054\n",
      "           1       0.22      0.18      0.20       776\n",
      "\n",
      "    accuracy                           0.93     15830\n",
      "   macro avg       0.59      0.58      0.58     15830\n",
      "weighted avg       0.92      0.93      0.92     15830\n",
      "\n"
     ]
    },
    {
     "name": "stderr",
     "output_type": "stream",
     "text": [
      "C:\\Users\\lenovossd\\AppData\\Local\\Programs\\Python\\Python312\\Lib\\site-packages\\sklearn\\base.py:493: UserWarning: X does not have valid feature names, but LocalOutlierFactor was fitted with feature names\n",
      "  warnings.warn(\n"
     ]
    },
    {
     "name": "stdout",
     "output_type": "stream",
     "text": [
      "################################################################################################\n",
      "Support Vector Machine: 12204\n",
      "Accuracy Score :0.23\n",
      "Classification Report :\n",
      "              precision    recall  f1-score   support\n",
      "\n",
      "           0       0.95      0.20      0.33     15054\n",
      "           1       0.05      0.80      0.09       776\n",
      "\n",
      "    accuracy                           0.23     15830\n",
      "   macro avg       0.50      0.50      0.21     15830\n",
      "weighted avg       0.91      0.23      0.32     15830\n",
      "\n",
      "################################################################################################\n",
      "XGBClassifier: 776\n",
      "Accuracy Score :0.95\n",
      "Classification Report :\n",
      "              precision    recall  f1-score   support\n",
      "\n",
      "           0       0.95      1.00      0.97     15054\n",
      "           1       0.00      0.00      0.00       776\n",
      "\n",
      "    accuracy                           0.95     15830\n",
      "   macro avg       0.48      0.50      0.49     15830\n",
      "weighted avg       0.90      0.95      0.93     15830\n",
      "\n"
     ]
    },
    {
     "name": "stderr",
     "output_type": "stream",
     "text": [
      "C:\\Users\\lenovossd\\AppData\\Local\\Programs\\Python\\Python312\\Lib\\site-packages\\sklearn\\metrics\\_classification.py:1531: UndefinedMetricWarning: Precision is ill-defined and being set to 0.0 in labels with no predicted samples. Use `zero_division` parameter to control this behavior.\n",
      "  _warn_prf(average, modifier, f\"{metric.capitalize()} is\", len(result))\n",
      "C:\\Users\\lenovossd\\AppData\\Local\\Programs\\Python\\Python312\\Lib\\site-packages\\sklearn\\metrics\\_classification.py:1531: UndefinedMetricWarning: Precision is ill-defined and being set to 0.0 in labels with no predicted samples. Use `zero_division` parameter to control this behavior.\n",
      "  _warn_prf(average, modifier, f\"{metric.capitalize()} is\", len(result))\n",
      "C:\\Users\\lenovossd\\AppData\\Local\\Programs\\Python\\Python312\\Lib\\site-packages\\sklearn\\metrics\\_classification.py:1531: UndefinedMetricWarning: Precision is ill-defined and being set to 0.0 in labels with no predicted samples. Use `zero_division` parameter to control this behavior.\n",
      "  _warn_prf(average, modifier, f\"{metric.capitalize()} is\", len(result))\n",
      "Exception ignored in: <function WeakMethod.__new__.<locals>._cb at 0x000001FDBD54AE80>\n",
      "Traceback (most recent call last):\n",
      "  File \"C:\\Users\\lenovossd\\AppData\\Local\\Programs\\Python\\Python312\\Lib\\weakref.py\", line 60, in _cb\n",
      "    callback(self)\n",
      "  File \"C:\\Users\\lenovossd\\AppData\\Local\\Programs\\Python\\Python312\\Lib\\site-packages\\matplotlib\\cbook.py\", line 248, in _remove_proxy\n",
      "    del self.callbacks[signal][cid]\n",
      "        ~~~~~~~~~~~~~~^^^^^^^^\n",
      "KeyError: 'changed'\n"
     ]
    },
    {
     "data": {
      "image/png": "[encoded data removed]",
      "text/plain": [
       "<Figure size 2000x1000 with 5 Axes>"
      ]
     },
     "metadata": {},
     "output_type": "display_data"
    }
   ],
   "source": [
    "f, axes = plt.subplots(1, 5, figsize=(20, 10), sharey='row')\n",
    "for i, (clf_name,clf) in enumerate(classifiers.items()):\n",
    "    #Fit the data and tag outliers\n",
    "    print(\"###\"*32)\n",
    "    if clf_name == \"Local Outlier Factor\":\n",
    "        y_pred = clf.fit_predict(X_train)\n",
    "        scores_prediction = clf.negative_outlier_factor_\n",
    "    elif clf_name == \"Support Vector Machine\":\n",
    "        clf.fit(X_train)\n",
    "        y_pred = clf.predict(X_train)\n",
    "    elif clf_name == \"Novelty Local Outlier Factor\":\n",
    "        clf.fit(X_train)\n",
    "        y_pred = clf.predict(X_train)\n",
    "        scores_prediction = clf.negative_outlier_factor_  \n",
    "    elif clf_name == \"XGBClassifier\":\n",
    "        clf.fit(X_train,y_train)\n",
    "        y_pred = clf.predict(X_train)\n",
    "    else:    \n",
    "        clf.fit(X_train)\n",
    "        scores_prediction = clf.decision_function(X_train)\n",
    "        y_pred = clf.predict(X_train)\n",
    "#     Reshape the prediction values to 0 for Valid transactions , 1 for Fraud transactions\n",
    "    y_pred[y_pred == 1] = 0\n",
    "    y_pred[y_pred == -1] = 1\n",
    "    n_errors = (y_pred != y_train).sum()\n",
    "    # Run Classification Metrics\n",
    "    print(\"{}: {}\".format(clf_name,n_errors))\n",
    "    ac_score = accuracy_score(y_train,y_pred)\n",
    "    \n",
    "    print(f\"Accuracy Score :{round(ac_score,2)}\")\n",
    "    print(\"Classification Report :\")\n",
    "    print(classification_report(y_train,y_pred))\n",
    "    cf_matrix = confusion_matrix(y_train, y_pred)\n",
    "    disp = ConfusionMatrixDisplay(cf_matrix)\n",
    "    disp.plot(ax=axes[i], values_format='.0f',cmap = \"Blues\")\n",
    "    axes[i].set_title(clf_name+\"f1:\"+str(round(ac_score,2)))\n",
    "    disp.im_.colorbar.remove()\n",
    "    disp.ax_.set_xlabel('')"
   ]
  },
  {
   "cell_type": "code",
   "execution_count": 28,
   "id": "6f3a38ca-ab3c-494e-a700-d9a9a9fa8127",
   "metadata": {},
   "outputs": [],
   "source": [
    "X_test=pd.read_csv(r\"C:\\Users\\lenovossd\\Downloads\\anomaly-detection\\test.csv\")"
   ]
  },
  {
   "cell_type": "code",
   "execution_count": 29,
   "id": "fe8baab7-44cb-45c5-a9bd-f68da8d51683",
   "metadata": {},
   "outputs": [],
   "source": [
    "clf  = XGBClassifier(objective=\"binary:logistic\", random_state=42)\n",
    "clf.fit(X_train,y_train)\n",
    "y_test_pred = clf.predict(X_test)"
   ]
  },
  {
   "cell_type": "code",
   "execution_count": 30,
   "id": "0510a464-9109-457a-901c-ea6efe0c0d04",
   "metadata": {},
   "outputs": [],
   "source": [
    "data={\"timestamp\":[],\"is_anomaly\":[]}\n",
    "for id,pred in zip(X[\"timestamp\"].unique(),y_test_pred):\n",
    "    data[\"timestamp\"].append(id)\n",
    "    data[\"is_anomaly\"].append(pred)"
   ]
  },
  {
   "cell_type": "code",
   "execution_count": 31,
   "id": "959b097c-9a6c-467b-a4b2-c2b61f2b452e",
   "metadata": {},
   "outputs": [
    {
     "data": {
      "text/html": [
       "<div>\n",
       "<style scoped>\n",
       "    .dataframe tbody tr th:only-of-type {\n",
       "        vertical-align: middle;\n",
       "    }\n",
       "\n",
       "    .dataframe tbody tr th {\n",
       "        vertical-align: top;\n",
       "    }\n",
       "\n",
       "    .dataframe thead th {\n",
       "        text-align: right;\n",
       "    }\n",
       "</style>\n",
       "<table border=\"1\" class=\"dataframe\">\n",
       "  <thead>\n",
       "    <tr style=\"text-align: right;\">\n",
       "      <th></th>\n",
       "      <th>timestamp</th>\n",
       "      <th>is_anomaly</th>\n",
       "    </tr>\n",
       "  </thead>\n",
       "  <tbody>\n",
       "    <tr>\n",
       "      <th>0</th>\n",
       "      <td>1425008573</td>\n",
       "      <td>0</td>\n",
       "    </tr>\n",
       "    <tr>\n",
       "      <th>1</th>\n",
       "      <td>1425008873</td>\n",
       "      <td>0</td>\n",
       "    </tr>\n",
       "  </tbody>\n",
       "</table>\n",
       "</div>"
      ],
      "text/plain": [
       "    timestamp  is_anomaly\n",
       "0  1425008573           0\n",
       "1  1425008873           0"
      ]
     },
     "execution_count": 31,
     "metadata": {},
     "output_type": "execute_result"
    }
   ],
   "source": [
    "output=pd.DataFrame(data,columns=[\"timestamp\",\"is_anomaly\"])\n",
    "output.head(2)"
   ]
  },
  {
   "cell_type": "code",
   "execution_count": 32,
   "id": "082cc436-e8e4-40c4-9b8f-685e6ceb7f4a",
   "metadata": {},
   "outputs": [
    {
     "data": {
      "text/plain": [
       "is_anomaly\n",
       "0    3948\n",
       "1      12\n",
       "Name: count, dtype: int64"
      ]
     },
     "execution_count": 32,
     "metadata": {},
     "output_type": "execute_result"
    }
   ],
   "source": [
    "output['is_anomaly'].value_counts()"
   ]
  },
  {
   "cell_type": "code",
   "execution_count": 33,
   "id": "3b3ff571-8f76-4012-9def-292f4a5fa450",
   "metadata": {},
   "outputs": [
    {
     "name": "stdout",
     "output_type": "stream",
     "text": [
      "Your submission was successfully saved!\n"
     ]
    },
    {
     "data": {
      "text/plain": [
       "is_anomaly\n",
       "0    3948\n",
       "1      12\n",
       "Name: count, dtype: int64"
      ]
     },
     "execution_count": 33,
     "metadata": {},
     "output_type": "execute_result"
    }
   ],
   "source": [
    "output.to_csv('submission.csv', index=False)\n",
    "print(\"Your submission was successfully saved!\")\n",
    "output['is_anomaly'].value_counts()"
   ]
  },
  {
   "cell_type": "code",
   "execution_count": null,
   "id": "3a7ab870-9943-4249-9abb-10b2c857adf6",
   "metadata": {},
   "outputs": [],
   "source": []
  }
 ],
 "metadata": {
  "kernelspec": {
   "display_name": "Python 3 (ipykernel)",
   "language": "python",
   "name": "python3"
  },
  "language_info": {
   "codemirror_mode": {
    "name": "ipython",
    "version": 3
   },
   "file_extension": ".py",
   "mimetype": "text/x-python",
   "name": "python",
   "nbconvert_exporter": "python",
   "pygments_lexer": "ipython3",
   "version": "3.12.1"
  }
 },
 "nbformat": 4,
 "nbformat_minor": 5
}
